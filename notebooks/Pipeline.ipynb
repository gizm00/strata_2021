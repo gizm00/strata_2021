{
 "cells": [
  {
   "cell_type": "markdown",
   "id": "magnetic-yugoslavia",
   "metadata": {},
   "source": [
    "What is a pipeline?\n",
    "- Work on code in discrete tasks\n",
    "- Can increase throughput\n",
    "\n",
    "insert pic of pipeline  \n",
    "\n",
    "Question: What are some good candidates for splitting into different tasks ?\n"
   ]
  },
  {
   "cell_type": "code",
   "execution_count": 5,
   "id": "individual-incidence",
   "metadata": {},
   "outputs": [],
   "source": [
    "import asyncio\n",
    "from csv import DictReader\n",
    "import geopandas as gpd\n",
    "import json\n",
    "import pandas as pd\n",
    "import itertools\n",
    "\n",
    "from camping.mocks.request import RequestsMock\n",
    "from camping.util.scraper import Scraper\n",
    "from camping.util.distance import distance_merge\n",
    "\n",
    "def max_col_width(w=100):\n",
    "    pd.set_option('display.max_colwidth', w)\n",
    "\n",
    "ridb_facilities_url = \"https://ridb.recreation.gov/api/v1/facilities\""
   ]
  },
  {
   "cell_type": "code",
   "execution_count": 3,
   "id": "underlying-stage",
   "metadata": {},
   "outputs": [
    {
     "name": "stderr",
     "output_type": "stream",
     "text": [
      "/Users/gizmo/.pyenv/versions/3.8.5/envs/strata_venv/lib/python3.8/site-packages/pyproj/crs/crs.py:53: FutureWarning: '+init=<authority>:<code>' syntax is deprecated. '<authority>:<code>' is the preferred initialization method. When making the change, be mindful of axis order changes: https://pyproj4.github.io/pyproj/stable/gotchas.html#axis-order-changes-in-proj-6\n",
      "  return _prepare_from_string(\" \".join(pjargs))\n",
      "/Users/gizmo/.pyenv/versions/3.8.5/envs/strata_venv/lib/python3.8/site-packages/pyproj/crs/crs.py:53: FutureWarning: '+init=<authority>:<code>' syntax is deprecated. '<authority>:<code>' is the preferred initialization method. When making the change, be mindful of axis order changes: https://pyproj4.github.io/pyproj/stable/gotchas.html#axis-order-changes-in-proj-6\n",
      "  return _prepare_from_string(\" \".join(pjargs))\n"
     ]
    }
   ],
   "source": [
    "# Exploration code for reference\n",
    "ridb_facilities_url = \"https://ridb.recreation.gov/api/v1/facilities\"\n",
    "params = {\"activity_id\":9, \"state\":\"OR\"}\n",
    "headers = {\"accept\": \"application/json\", \"apikey\": \"key\"}\n",
    "\n",
    "\n",
    "response = RequestsMock.get(ridb_facilities_url, params, headers=headers)\n",
    "camping_json  = json.loads(response.text)\n",
    "\n",
    "# Do we really need the campgrounds in a dataframe?\n",
    "df_ridb_camping = pd.DataFrame(camping_json['RECDATA'])\n",
    "\n",
    "campground_info = pd.DataFrame()\n",
    "for facility in camping_json['RECDATA']:\n",
    "    if facility.get('FacilityID') is not None:\n",
    "        campground_url = f\"{ridb_facilities_url}/{facility['FacilityID']}/campsites\"\n",
    "        resp = RequestsMock.get(campground_url, headers=headers)\n",
    "        if resp.status_code != 200:\n",
    "            continue\n",
    "        \n",
    "        campsites = json.loads(resp.text)\n",
    "        if len(campsites['RECDATA']) > 0:\n",
    "            df_campsites = pd.DataFrame(campsites['RECDATA'])\n",
    "            campground_info = campground_info.append(df_campsites[['FacilityID', 'CampsiteID', 'CampsiteName', 'ATTRIBUTES']].merge(df_ridb_camping, on='FacilityID', how='left'))\n",
    "            \n",
    "nf_data = []\n",
    "with open('../data/NF_sites/OR_sitelist.csv') as f:\n",
    "    reader = DictReader(f)\n",
    "    for row in reader:\n",
    "        sc = Scraper(row['site_url'], row['site_name'])\n",
    "        nf_data.append(sc.scrape())\n",
    "nf_df = pd.DataFrame(nf_data)  \n",
    "merged = distance_merge(nf_df, campground_info, 2000, 'ridb', 'nf')"
   ]
  },
  {
   "cell_type": "markdown",
   "id": "limiting-hawaii",
   "metadata": {},
   "source": [
    "What can we parallelize ?\n",
    "* By data source - NF can run independently of RIDB\n",
    "* Within data source - Create batches\n",
    "\n",
    "What makes sense as pipeline steps?\n",
    "* Extracting the data from source\n",
    "* Transforming campsite data\n",
    "* Merging NF and RIDB\n",
    "\n",
    "Configuration for scaling\n",
    "* State\n",
    "* NF urls\n",
    "Add graphic of proposed pipeline\n",
    "\n",
    "While Oregon is great, we might want to visit other states. How can we design an interface that will enable us to easily expand to other states?"
   ]
  },
  {
   "cell_type": "code",
   "execution_count": 4,
   "id": "front-twins",
   "metadata": {},
   "outputs": [],
   "source": [
    "# Start with what we want as paramaterized inputs and build from there\n",
    "NF_sites = [\n",
    "    (\"East Lemolo Campground\", \"https://www.fs.usda.gov/recarea/umpqua/recarea/?recid=63492\"),\n",
    "    (\"Magone Lake Campground\", \"https://www.fs.usda.gov/recarea/malheur/recarea/?recid=39964\")\n",
    "]\n",
    "states = ['OR', 'WA', 'CA']"
   ]
  },
  {
   "cell_type": "code",
   "execution_count": 11,
   "id": "lightweight-newcastle",
   "metadata": {},
   "outputs": [],
   "source": [
    "# use async to illustrate parallelization - will work for NF sites but not others ?\n",
    "async def get_facilities(state):\n",
    "    params[\"state\"] = state \n",
    "    response = RequestsMock.get(ridb_facilities_url, params, headers=headers)\n",
    "    await asyncio.sleep(2)\n",
    "    if response.status_code == 200:\n",
    "        print(f\"Getting facilities for {state}\")\n",
    "        data = json.loads(response.text)\n",
    "        if len(campsites['RECDATA']) > 0:\n",
    "            df = pd.DataFrame(data['RECDATA'])\n",
    "    else:\n",
    "        logging.error(f\"Unable to get result for state {state}, got {response.reason}\")\n",
    "    return df\n",
    "        \n",
    "    "
   ]
  },
  {
   "cell_type": "code",
   "execution_count": 15,
   "id": "victorian-helen",
   "metadata": {},
   "outputs": [],
   "source": [
    "tasks = []\n",
    "for state in states:\n",
    "    tasks.append(asyncio.create_task(get_facilities(state)))"
   ]
  },
  {
   "cell_type": "code",
   "execution_count": 16,
   "id": "checked-spain",
   "metadata": {},
   "outputs": [
    {
     "name": "stdout",
     "output_type": "stream",
     "text": [
      "Getting facilities for OR\n",
      "Getting facilities for WA\n",
      "Getting facilities for CA\n"
     ]
    }
   ],
   "source": [
    "res = await asyncio.gather(*tasks)"
   ]
  },
  {
   "cell_type": "code",
   "execution_count": null,
   "id": "republican-tobago",
   "metadata": {},
   "outputs": [],
   "source": []
  }
 ],
 "metadata": {
  "kernelspec": {
   "display_name": "Python 3",
   "language": "python",
   "name": "python3"
  },
  "language_info": {
   "codemirror_mode": {
    "name": "ipython",
    "version": 3
   },
   "file_extension": ".py",
   "mimetype": "text/x-python",
   "name": "python",
   "nbconvert_exporter": "python",
   "pygments_lexer": "ipython3",
   "version": "3.8.5"
  }
 },
 "nbformat": 4,
 "nbformat_minor": 5
}
